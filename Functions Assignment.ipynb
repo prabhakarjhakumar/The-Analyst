{
 "cells": [
  {
   "cell_type": "markdown",
   "id": "9859cf10-f86e-4936-94fc-234f170c549a",
   "metadata": {},
   "source": [
    "Q1. Which keyword is used to create a function? Create a function to return a list of odd numbers in the\n",
    "range of 1 to 25."
   ]
  },
  {
   "cell_type": "code",
   "execution_count": 11,
   "id": "34b10a08-25f7-4f11-b3e8-94f132fce633",
   "metadata": {},
   "outputs": [
    {
     "name": "stdout",
     "output_type": "stream",
     "text": [
      "1\n",
      "3\n",
      "5\n",
      "7\n",
      "9\n",
      "11\n",
      "13\n",
      "15\n",
      "17\n",
      "19\n",
      "21\n",
      "23\n"
     ]
    }
   ],
   "source": [
    "def odd_num(n):\n",
    "    for i in range(1,n):\n",
    "        if i%2!=0:\n",
    "            print(i)\n",
    "        else:\n",
    "                i=i+1\n",
    "\n",
    "odd_num(25)"
   ]
  },
  {
   "cell_type": "markdown",
   "id": "ed384acd-c6e9-475b-a321-0f72e78b9c2b",
   "metadata": {},
   "source": [
    "Q2. Why *args and **kwargs is used in some functions? Create a function each for *args and **kwargs to\n",
    "demonstrate their use."
   ]
  },
  {
   "cell_type": "markdown",
   "id": "295828fd-b275-4b16-ad69-b97b651969e7",
   "metadata": {},
   "source": [
    "*Args is used to get multiple arguments in a function.\n",
    "*Kwargs is used to get multiple arguments in the form of Key-Value pair in a function."
   ]
  },
  {
   "cell_type": "code",
   "execution_count": 16,
   "id": "cf1e0246-5640-44ba-8eed-57a8875e2392",
   "metadata": {},
   "outputs": [],
   "source": [
    "def args_fun(*args):\n",
    "    print(\"The *args can take multiple arguments as input:  \",*args)\n",
    "    "
   ]
  },
  {
   "cell_type": "code",
   "execution_count": 20,
   "id": "a23a7605-9539-462d-b25a-80a3f750b02e",
   "metadata": {},
   "outputs": [
    {
     "name": "stdout",
     "output_type": "stream",
     "text": [
      "The *args can take multiple arguments as input:   prabhakar is a good man [1, 2, 3, 4, 5, 6, 7]\n"
     ]
    }
   ],
   "source": [
    "args_fun('prabhakar', 'is','a', 'good','man', [1,2,3,4,5,6,7])"
   ]
  },
  {
   "cell_type": "code",
   "execution_count": 55,
   "id": "30da93cc-4ae2-49a3-9b49-2f8ddff6b08e",
   "metadata": {},
   "outputs": [],
   "source": [
    "def kwargs_fun(**kwargs):\n",
    "    for k, v in kwargs.items():\n",
    "        print(\"the key value pair is:\",\"%s : %s\" % (k, v))\n"
   ]
  },
  {
   "cell_type": "code",
   "execution_count": 56,
   "id": "a94e7a2b-773f-417c-9e98-19229d437a3e",
   "metadata": {},
   "outputs": [
    {
     "name": "stdout",
     "output_type": "stream",
     "text": [
      "the key value pair is: a : 5\n",
      "the key value pair is: Name : Prabhakar\n",
      "the key value pair is: Job : Analyst\n"
     ]
    }
   ],
   "source": [
    "kwargs_fun(a = 5, Name= 'Prabhakar', Job = 'Analyst')"
   ]
  },
  {
   "cell_type": "markdown",
   "id": "64a09bc9-2f39-4880-b8fd-1cc439ad0809",
   "metadata": {},
   "source": [
    "Q.3. What is an iterator in python? Name the method used to initialise the iterator object and the method\n",
    "used for iteration. Use these methods to print the first five elements of the given list [2, 4, 6, 8, 10, 12, 14, 16,\n",
    "18, 20]."
   ]
  },
  {
   "cell_type": "markdown",
   "id": "934c44d7-58e7-4d7a-ae3d-8a9ad4991cb5",
   "metadata": {},
   "source": [
    "An iterator is an object which implements the iterator protocol, which consist of the methods __iter__() and __next__().\n",
    "We can you for loop to iterate through an iterable object\n"
   ]
  },
  {
   "cell_type": "code",
   "execution_count": 9,
   "id": "b5bbb058-a5c9-43a0-aef3-317ad30967d0",
   "metadata": {},
   "outputs": [],
   "source": [
    "l= [2, 4, 6, 8, 10, 12, 14, 16,18, 20]"
   ]
  },
  {
   "cell_type": "code",
   "execution_count": 21,
   "id": "b9d76df7-1da0-4386-8f3d-6a20e7bad4b6",
   "metadata": {},
   "outputs": [
    {
     "name": "stdout",
     "output_type": "stream",
     "text": [
      "2\n",
      "4\n",
      "6\n",
      "8\n",
      "10\n"
     ]
    }
   ],
   "source": [
    "for i in range(len(l)):\n",
    "    if i<=4:\n",
    "        print(l[i])"
   ]
  },
  {
   "cell_type": "markdown",
   "id": "d63c625b-8d7e-419c-b9b7-ebe08df571bb",
   "metadata": {},
   "source": [
    "Q4. What is a generator function in python? Why yield keyword is used? Give an example of a generator\n",
    "function."
   ]
  },
  {
   "cell_type": "markdown",
   "id": "8fe47e29-c066-4e0c-a09f-2d24d49d712b",
   "metadata": {},
   "source": [
    "It is more powerful as a tool to implement iterators. It is easy and more convenient to implement because it offers the evaluation of elements on demand. Unlike regular functions which on encountering a return statement terminates entirely, generators use a yield statement in which the state of the function is saved from the last call and can be picked up or resumed the next time we call a generator function. Another great advantage of the generator over a list is that it takes much less memory. "
   ]
  },
  {
   "cell_type": "code",
   "execution_count": 22,
   "id": "654810eb-a4eb-48d4-b184-1b1cac290ddc",
   "metadata": {},
   "outputs": [
    {
     "name": "stdout",
     "output_type": "stream",
     "text": [
      "0\n",
      "1\n",
      "4\n",
      "9\n",
      "16\n",
      "25\n",
      "36\n",
      "49\n",
      "64\n",
      "81\n"
     ]
    }
   ],
   "source": [
    "generator = (num ** 2 for num in range(10))\n",
    "for num in generator:\n",
    "    print(num)"
   ]
  },
  {
   "cell_type": "markdown",
   "id": "c60f8a9e-8232-40f7-a462-dd0563d8e0c1",
   "metadata": {},
   "source": [
    "Q5. Create a generator function for prime numbers less than 1000. Use the next() method to print the\n",
    "first 20 prime numbers."
   ]
  },
  {
   "cell_type": "code",
   "execution_count": 76,
   "id": "74b49945-3b61-4c26-a61f-cde7fad6bdfb",
   "metadata": {},
   "outputs": [],
   "source": [
    "def test_prime(upper_limit):\n",
    "    l=1\n",
    "    u=upper_limit\n",
    "    for num in range(l,u):\n",
    "        if num> 1:\n",
    "            for i in range(2,num):\n",
    "                if (num%i)==0:\n",
    "                    break   \n",
    "            else:\n",
    "                yield num\n",
    "    "
   ]
  },
  {
   "cell_type": "code",
   "execution_count": 89,
   "id": "978981b6-1400-47e3-94cc-fdafb2865a9b",
   "metadata": {},
   "outputs": [
    {
     "name": "stdout",
     "output_type": "stream",
     "text": [
      "2\n",
      "3\n",
      "5\n",
      "7\n",
      "11\n",
      "13\n",
      "17\n",
      "19\n"
     ]
    }
   ],
   "source": [
    "x= test_prime(1000)\n",
    "print(next(x))\n",
    "print(next(x))\n",
    "print(next(x))\n",
    "print(next(x))\n",
    "print(next(x))\n",
    "print(next(x))\n",
    "print(next(x))\n",
    "print(next(x))"
   ]
  }
 ],
 "metadata": {
  "kernelspec": {
   "display_name": "Python 3 (ipykernel)",
   "language": "python",
   "name": "python3"
  },
  "language_info": {
   "codemirror_mode": {
    "name": "ipython",
    "version": 3
   },
   "file_extension": ".py",
   "mimetype": "text/x-python",
   "name": "python",
   "nbconvert_exporter": "python",
   "pygments_lexer": "ipython3",
   "version": "3.10.8"
  }
 },
 "nbformat": 4,
 "nbformat_minor": 5
}
