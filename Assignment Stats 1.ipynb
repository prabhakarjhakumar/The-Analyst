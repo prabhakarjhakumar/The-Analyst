{
 "cells": [
  {
   "cell_type": "markdown",
   "id": "d4297198-aa54-41f2-b81a-70c5b579f7b3",
   "metadata": {},
   "source": [
    "Q1. What is Statistics?\n",
    "\n",
    "Q2. Define the different types of statistics and give an example of when each type might be used.\n",
    "\n",
    "Q3. What are the different types of data and how do they differ from each other? Provide an example of\n",
    "each type of data.\n",
    "\n",
    "Q4. Categorise the following datasets with respect to quantitative and qualitative data types:\n",
    "\n",
    "(i) Grading in exam: A+, A, B+, B, C+, C, D, E\n",
    "(ii) Colour of mangoes: yellow, green, orange, red\n",
    "(iii) Height data of a class: [178.9, 179, 179.5, 176, 177.2, 178.3, 175.8,...]\n",
    "(iv) Number of mangoes exported by a farm: [500, 600, 478, 672, ...]\n",
    "\n",
    "Q5. Explain the concept of levels of measurement and give an example of a variable for each level.\n",
    "\n",
    "Q6. Why is it important to understand the level of measurement when analyzing data? Provide an\n",
    "example to illustrate your answer.\n",
    "\n",
    "Q7. How nominal data type is different from ordinal data type.\n",
    "\n",
    "Q8. Which type of plot can be used to display data in terms of range?\n",
    "\n",
    "Q9. Describe the difference between descriptive and inferential statistics. Give an example of each\n",
    "type of statistics and explain how they are used.\n",
    "\n",
    "Q10. What are some common measures of central tendency and variability used in statistics? Explain\n",
    "how each measure can be used to describe a dataset."
   ]
  },
  {
   "cell_type": "markdown",
   "id": "7b43f1be-182e-41ce-8453-a6a8c8cd7c6d",
   "metadata": {},
   "source": [
    "1. Ans- Statistics is a branch of sceince which involves collecting, organising & analysing the data."
   ]
  },
  {
   "cell_type": "markdown",
   "id": "225619b1-c2ca-4c82-9282-e38419483f11",
   "metadata": {},
   "source": [
    "2. Ans:   There are two types of statistics:\n",
    "\n",
    "    1. Descriptive: It consists of organizing & summarizing the data.\n",
    "       Example: Measure of central tendency( Mean, median & Mode), Measure of Dispersion: (Variance, Standard Deviation)\n",
    "       \n",
    "    2. Inferential Statistics: It consists of using the data on some samples and draw conclusion in behalf of the entire\n",
    "        population.\n",
    "        Ex: Ztest, ptest, hypothesis testing.\n",
    "    "
   ]
  },
  {
   "cell_type": "markdown",
   "id": "fb14db84-3375-49cd-b60b-b51cd606a10a",
   "metadata": {},
   "source": [
    "3.  Ans:  There are 2 types of data:\n",
    "\n",
    "    1. Quantitative: It has numerical value in it. It is of two type:\n",
    "    \n",
    "        a. Discrete: Whole nos., No of bank accounts.\n",
    "        b. Continuos: Weight, Height, length\n",
    "    2. Qualitative: These are the categorical type of data.\n",
    "    \n",
    "        a. Nominal: Gender, Marital Status\n",
    "        b. Ordinal: Marks, temp, prformance.\n",
    "    "
   ]
  },
  {
   "cell_type": "markdown",
   "id": "bfbf6994-9f9c-45bd-ac68-028359d98832",
   "metadata": {},
   "source": [
    "Q4. Categorise the following datasets with respect to quantitative and qualitative data types:\n",
    "\n",
    "(i) Grading in exam: A+, A, B+, B, C+, C, D, E: Qualitative\n",
    "\n",
    "(ii) Colour of mangoes: yellow, green, orange, red: Qualitative\n",
    "\n",
    "(iii) Height data of a class: [178.9, 179, 179.5, 176, 177.2, 178.3, 175.8,...]: : Quantitative\n",
    "\n",
    "(iv) Number of mangoes exported by a farm: [500, 600, 478, 672, ...]: Quantitative"
   ]
  },
  {
   "cell_type": "markdown",
   "id": "3d3571f5-c957-4419-ba21-bcd80da7dee0",
   "metadata": {},
   "source": [
    "Q5. Explain the concept of levels of measurement and give an example of a variable for each level."
   ]
  },
  {
   "cell_type": "markdown",
   "id": "899608bd-a364-436b-a591-8d463dcfcbaa",
   "metadata": {},
   "source": [
    "Levels of measurement, also called scales of measurement, tell you how precisely variables are recorded. \n",
    "\n",
    "1. Nominal Scale data: gender: MALE & Female.\n",
    "\n",
    "2. Ordinal Scale Data: example: reviews of product: positive, negative, neutral, good, excellent.\n",
    "\n",
    "3. Interval scale data: The rank & the orders matters. ex: temperature\n",
    "\n",
    "4. Ratio Scale Data: Grades."
   ]
  },
  {
   "cell_type": "markdown",
   "id": "75cf4ce5-49d5-4c77-b8e0-890cdb86a71f",
   "metadata": {},
   "source": [
    "Q.6. Ans :  Understanding the level of measurement is crucial when analyzing data because it determines the appropriate statistical methods and techniques that can be applied to the data. Different levels of measurement have specific characteristics and restrictions, and using the wrong analytical approach can lead to inaccurate or misleading results.\n",
    "\n",
    "The four common levels of measurement are nominal, ordinal, interval, and ratio.\n",
    "\n",
    "Nominal level data are categorical and do not have any inherent order or numerical value. They represent qualitative attributes or categories. For example, analyzing the favorite colors of a group of individuals would involve nominal data. In this case, it would be inappropriate to calculate means or perform arithmetic operations on the data, as there is no meaningful numerical interpretation.\n",
    "\n",
    "Ordinal level data have a natural ordering but lack consistent intervals between categories. An example could be rating customer satisfaction on a scale from 1 to 5. While we can determine the order of satisfaction levels, the difference between each level may not be equal or consistent. Therefore, calculating means or conducting certain statistical tests that assume equal intervals would not be appropriate.\n",
    "\n",
    "Interval level data have consistent intervals between values but lack a true zero point. A common example is measuring temperature on the Celsius or Fahrenheit scale. In this case, we can calculate differences and perform arithmetic operations, but there is no absolute zero point that represents the absence of temperature.\n",
    "\n",
    "Ratio level data have consistent intervals and a true zero point. Examples include measuring height, weight, or time. With ratio data, all mathematical operations are valid, and ratios have meaningful interpretations. For instance, calculating the average sales revenue per customer or determining the percentage increase in product sales over time are appropriate analyses.\n",
    "\n",
    "Understanding the level of measurement allows data analysts to select the most appropriate descriptive and inferential statistical techniques, ensuring accurate and meaningful interpretations of the results. Applying the wrong analysis method based on the level of measurement can lead to erroneous conclusions and misinformed decision-making."
   ]
  },
  {
   "cell_type": "markdown",
   "id": "cb0ac2ac-8fe8-485c-a7f4-8d69965a9dc1",
   "metadata": {},
   "source": [
    "Q.7. ANs :  Nature of Data:\n",
    "\n",
    "Nominal Data: Nominal data represent categories or labels with no inherent order or ranking. Each category is distinct and unrelated to the others. Examples include colors, gender categories, or types of animals.\n",
    "\n",
    "Ordinal Data: Ordinal data, on the other hand, have a natural ordering or ranking among categories. The order represents the relative positioning of the categories but does not specify the magnitude of the differences between them. Examples include survey ratings (e.g., 1 to 5 scale), educational levels (e.g., high school, bachelor's degree, master's degree), or customer satisfaction levels (e.g., very dissatisfied, dissatisfied, neutral, satisfied, very satisfied)."
   ]
  },
  {
   "cell_type": "markdown",
   "id": "6dea3f03-72a8-4b61-9101-948216b767d1",
   "metadata": {},
   "source": [
    "Q.8. ANS: A type of plot that can be used to display data in terms of range is a box plot (also known as a box-and-whisker plot). A box plot provides a visual representation of the distribution of a dataset, including the minimum and maximum values, the median, and the quartiles."
   ]
  },
  {
   "cell_type": "markdown",
   "id": "5c316ba5-20e8-4c28-b4b0-769685741554",
   "metadata": {},
   "source": [
    "Q.9. ANS: Descriptive: It consists of organizing & summarizing the data. Example: Measure of central tendency( Mean, median & Mode), Measure of Dispersion: (Variance, Standard Deviation)\n",
    "\n",
    "Inferential Statistics: It consists of using the data on some samples and draw conclusion in behalf of the entire population. Ex: Ztest, ptest, hypothesis testing."
   ]
  },
  {
   "cell_type": "markdown",
   "id": "725db20b-74fd-49ce-8ead-c9ae36f51fbb",
   "metadata": {},
   "source": [
    "Q.10. Ans: \n",
    "\n",
    "Measures of Central Tendency:\n",
    "1. Mean\n",
    "2. Median\n",
    "3. Mode\n",
    "Measures of Variability:\n",
    "1. Variance\n",
    "2. Standard Deviation\n",
    "3. Range:\n",
    "\n"
   ]
  },
  {
   "cell_type": "code",
   "execution_count": null,
   "id": "84dd58eb-db3d-4e01-b859-d2ae3ef002ca",
   "metadata": {},
   "outputs": [],
   "source": []
  }
 ],
 "metadata": {
  "kernelspec": {
   "display_name": "Python 3 (ipykernel)",
   "language": "python",
   "name": "python3"
  },
  "language_info": {
   "codemirror_mode": {
    "name": "ipython",
    "version": 3
   },
   "file_extension": ".py",
   "mimetype": "text/x-python",
   "name": "python",
   "nbconvert_exporter": "python",
   "pygments_lexer": "ipython3",
   "version": "3.10.8"
  }
 },
 "nbformat": 4,
 "nbformat_minor": 5
}
