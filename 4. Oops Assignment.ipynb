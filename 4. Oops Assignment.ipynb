{
 "cells": [
  {
   "cell_type": "markdown",
   "id": "9a3d45e3-c38f-4184-a779-2f8c3aa92b78",
   "metadata": {},
   "source": [
    "Q1. Explain Class and Object with respect to Object-Oriented Programming. Give a suitable example."
   ]
  },
  {
   "cell_type": "markdown",
   "id": "6a405191-57f1-415d-82e5-5a9fe36490ec",
   "metadata": {},
   "source": [
    "A class is a user-defined blueprint or prototype from which objects are created. \n",
    "Classes provide a means of bundling data and functionality together. \n",
    "Creating a new class creates a new type of object, allowing new instances of that type to be made. \n",
    "Each class instance can have attributes attached to it for maintaining its state.\n",
    "\n",
    "\n",
    "An Object is an instance of a Class.\n",
    "An object consists of : \n",
    "1. State: It is represented by the attributes of an object. It also reflects the properties of an object.\n",
    "2. Behaviour: It is represented by the methods of an object. It also reflects the response of an object to other objects.\n",
    "3. Identity: It gives a unique name to an object and enables one object to interact with other objects."
   ]
  },
  {
   "cell_type": "code",
   "execution_count": 2,
   "id": "2b0fc425-3178-4753-89ae-d447d75e46e7",
   "metadata": {},
   "outputs": [],
   "source": [
    "class employee():\n",
    "    pass"
   ]
  },
  {
   "cell_type": "code",
   "execution_count": 3,
   "id": "ca5fc28f-2ac2-4d4f-bde6-8ab07676399f",
   "metadata": {},
   "outputs": [],
   "source": [
    "suman = employee()"
   ]
  },
  {
   "cell_type": "code",
   "execution_count": 4,
   "id": "9fe000b7-3a2b-4109-996e-f91e440216b6",
   "metadata": {},
   "outputs": [
    {
     "data": {
      "text/plain": [
       "__main__.employee"
      ]
     },
     "execution_count": 4,
     "metadata": {},
     "output_type": "execute_result"
    }
   ],
   "source": [
    "type(suman)"
   ]
  },
  {
   "cell_type": "markdown",
   "id": "d634079a-664d-48a3-9f34-679192c8af5d",
   "metadata": {},
   "source": [
    "Q2. Name the four pillars of OOPs.\n",
    "1. Inheritance\n",
    "2. Polymorphism\n",
    "3. Encapsulation\n",
    "4. Abstraction"
   ]
  },
  {
   "cell_type": "code",
   "execution_count": null,
   "id": "3592104c-04b9-4bb4-8666-12e88ca88c72",
   "metadata": {},
   "outputs": [],
   "source": []
  },
  {
   "cell_type": "markdown",
   "id": "7e591ab3-6fc0-48f1-be2a-a60e2699390f",
   "metadata": {},
   "source": [
    "Q3. Explain why the __init__() function is used. Give a suitable example."
   ]
  },
  {
   "cell_type": "markdown",
   "id": "f5bff8bb-4bdc-4fc7-9419-2b9708822d60",
   "metadata": {},
   "source": [
    "The __init__ method is a constructors. Constructors are used to initialize the object’s state."
   ]
  },
  {
   "cell_type": "code",
   "execution_count": 20,
   "id": "56b6bf82-a9ca-4c5e-8da2-6d700b9899dd",
   "metadata": {},
   "outputs": [],
   "source": [
    "class person():\n",
    "    \n",
    "    def __init__(self, city, state):\n",
    "        self.location= city\n",
    "        self.region = state\n",
    "        \n",
    "    def intro(self):\n",
    "        return \"I am a new guy\", self.location, self.region"
   ]
  },
  {
   "cell_type": "code",
   "execution_count": 21,
   "id": "c3317b13-31a0-451a-8601-6c06a840ed7a",
   "metadata": {},
   "outputs": [],
   "source": [
    "ram=person('Drabhanga', 'bihar')"
   ]
  },
  {
   "cell_type": "code",
   "execution_count": 22,
   "id": "2cad5c07-8633-426d-9a13-709f46521a9b",
   "metadata": {},
   "outputs": [
    {
     "data": {
      "text/plain": [
       "('I am a new guy', 'Drabhanga', 'bihar')"
      ]
     },
     "execution_count": 22,
     "metadata": {},
     "output_type": "execute_result"
    }
   ],
   "source": [
    "ram.intro()"
   ]
  },
  {
   "cell_type": "markdown",
   "id": "0de60c4f-be73-48c8-b51d-ba41a487c1dd",
   "metadata": {},
   "source": [
    "Q4. Why self is used in OOPs?\n",
    "\n",
    "self represents the instance of the class. By using the “self”  we can access the attributes and methods of the class in python. It binds the attributes with the given arguments.\n",
    "\n",
    "In Python we can access the attributes of a class for an instance. This instance always needs to process as an argument in order to have acccess. So, we need an argument while defining a function inside a class. Hence, We use self."
   ]
  },
  {
   "cell_type": "markdown",
   "id": "f906f87c-e680-45ba-98b3-e18dbbfd89da",
   "metadata": {},
   "source": [
    "Q5. What is inheritance? Give an example for each type of inheritance."
   ]
  },
  {
   "cell_type": "markdown",
   "id": "9b9f90aa-d445-43a3-8c96-b3c735faa249",
   "metadata": {},
   "source": [
    "To create an object that inherits the methods and properties of another object. This is called inheritance. In inheritance, there is a parent class and a child class. A child class inherits the properties and methods of the parent class.\n",
    "\n",
    "There are four types of inheritance in Python:\n",
    "1. Single Inheritance: \n",
    "Single inheritance enables a derived class to inherit properties from a single parent class, thus enabling code reusability and the addition of new features to existing code.\n",
    "2. Multiple Inheritance: \n",
    "When a class can be derived from more than one base class this type of inheritance is called multiple inheritances. In multiple inheritances, all the features of the base classes are inherited into the derived class.\n",
    "3. Multilevel Inheritance :\n",
    "In multilevel inheritance, features of the base class and the derived class are further inherited into the new derived class. This is similar to a relationship representing a child and a grandfather.\n",
    "4. Hierarchical Inheritance: \n",
    "When more than one derived class are created from a single base this type of inheritance is called hierarchical inheritance. In this program, we have a parent (base) class and two child (derived) classes.\n",
    "5. Hybrid Inheritance: \n",
    "Inheritance consisting of multiple types of inheritance is called hybrid inheritance."
   ]
  },
  {
   "cell_type": "code",
   "execution_count": null,
   "id": "df692940-54fc-4775-9d59-e1cefd40a759",
   "metadata": {},
   "outputs": [],
   "source": []
  }
 ],
 "metadata": {
  "kernelspec": {
   "display_name": "Python 3 (ipykernel)",
   "language": "python",
   "name": "python3"
  },
  "language_info": {
   "codemirror_mode": {
    "name": "ipython",
    "version": 3
   },
   "file_extension": ".py",
   "mimetype": "text/x-python",
   "name": "python",
   "nbconvert_exporter": "python",
   "pygments_lexer": "ipython3",
   "version": "3.10.8"
  }
 },
 "nbformat": 4,
 "nbformat_minor": 5
}
