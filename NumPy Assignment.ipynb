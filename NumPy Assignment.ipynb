{
 "cells": [
  {
   "cell_type": "code",
   "execution_count": 40,
   "id": "b3baa573-1065-4f73-992b-7c76df8169cd",
   "metadata": {},
   "outputs": [],
   "source": [
    "# Question no. 1 \n",
    "import numpy as np\n",
    "list_ = [ '1' , '2' , '3' , '4' , '5' ]\n",
    "array_list = np.array(object = list_)"
   ]
  },
  {
   "cell_type": "code",
   "execution_count": 41,
   "id": "a2e0a005-91be-490d-a110-2b782bc8cf26",
   "metadata": {},
   "outputs": [
    {
     "name": "stdout",
     "output_type": "stream",
     "text": [
      "['1', '2', '3', '4', '5']\n",
      "['1' '2' '3' '4' '5']\n"
     ]
    }
   ],
   "source": [
    "print(list_)\n",
    "print(array_list)"
   ]
  },
  {
   "cell_type": "markdown",
   "id": "e5d0dbae-7a24-4563-8d1c-3a970049eb2e",
   "metadata": {},
   "source": [
    "Yes, list_ is a type of list DataType\n",
    "whereas array_list is an array."
   ]
  },
  {
   "cell_type": "code",
   "execution_count": 42,
   "id": "372684cf-3f57-46ac-9139-229cfddf8938",
   "metadata": {},
   "outputs": [
    {
     "name": "stdout",
     "output_type": "stream",
     "text": [
      "<class 'list'>\n",
      "<class 'numpy.ndarray'>\n"
     ]
    }
   ],
   "source": [
    "print(type(list_))\n",
    "\n",
    "print(type(array_list))"
   ]
  },
  {
   "cell_type": "code",
   "execution_count": 43,
   "id": "d6544cb0-a2e1-4adc-9ebb-2355f4cc1b4a",
   "metadata": {},
   "outputs": [
    {
     "name": "stdout",
     "output_type": "stream",
     "text": [
      "1 <class 'str'>\n",
      "2 <class 'str'>\n",
      "3 <class 'str'>\n",
      "4 <class 'str'>\n",
      "5 <class 'str'>\n"
     ]
    }
   ],
   "source": [
    "# Question no 2\n",
    "for i in list_:\n",
    "    print(i, type(i))"
   ]
  },
  {
   "cell_type": "code",
   "execution_count": 44,
   "id": "0260ffda-4741-461c-b5d3-a6b8d1a2a32d",
   "metadata": {},
   "outputs": [
    {
     "name": "stdout",
     "output_type": "stream",
     "text": [
      "1 <class 'numpy.str_'>\n",
      "2 <class 'numpy.str_'>\n",
      "3 <class 'numpy.str_'>\n",
      "4 <class 'numpy.str_'>\n",
      "5 <class 'numpy.str_'>\n"
     ]
    }
   ],
   "source": [
    "# Question no 2\n",
    "for i in array_list:\n",
    "    print(i  , type(i))"
   ]
  },
  {
   "cell_type": "code",
   "execution_count": 46,
   "id": "7f34c21a-cdf2-4249-9745-67f3f98def39",
   "metadata": {},
   "outputs": [],
   "source": [
    "#Question no 3\n",
    "\n",
    "array_list = np.array(object = list_, dtype = int)"
   ]
  },
  {
   "cell_type": "markdown",
   "id": "9f7c271b-fc4f-4259-8069-e2f4974962ca",
   "metadata": {},
   "source": [
    "There will be change in the DataType of array_list. But there will be no change in list_."
   ]
  },
  {
   "cell_type": "code",
   "execution_count": 11,
   "id": "1bb087a9-9a14-4843-94da-f019d7c9c23b",
   "metadata": {},
   "outputs": [
    {
     "name": "stdout",
     "output_type": "stream",
     "text": [
      "1 <class 'numpy.int64'>\n",
      "2 <class 'numpy.int64'>\n",
      "3 <class 'numpy.int64'>\n",
      "4 <class 'numpy.int64'>\n",
      "5 <class 'numpy.int64'>\n"
     ]
    }
   ],
   "source": [
    "for i in array_list:\n",
    "    print(i  , type(i))"
   ]
  },
  {
   "cell_type": "code",
   "execution_count": 12,
   "id": "9903d800-6ed5-4b22-a100-9246fa7ecfa6",
   "metadata": {},
   "outputs": [
    {
     "name": "stdout",
     "output_type": "stream",
     "text": [
      "1 <class 'str'>\n",
      "2 <class 'str'>\n",
      "3 <class 'str'>\n",
      "4 <class 'str'>\n",
      "5 <class 'str'>\n"
     ]
    }
   ],
   "source": [
    "for i in list_:\n",
    "    print(i, type(i))"
   ]
  },
  {
   "cell_type": "code",
   "execution_count": 17,
   "id": "af53d4f8-8c17-41cd-82ec-f0797d3c39f5",
   "metadata": {},
   "outputs": [],
   "source": [
    "import numpy as np\n",
    "num_list = [ [ 1 , 2 , 3 ] , [ 4 , 5 , 6 ] ]\n",
    "num_array = np.array(object = num_list)"
   ]
  },
  {
   "cell_type": "markdown",
   "id": "f4e030dc-b0ed-40e1-b9d9-c8c7cddbb6e1",
   "metadata": {},
   "source": [
    "Q4. Write a code to find the following characteristics of variable, num_array:\n",
    "\n",
    "(i) shape\n",
    "(ii) size"
   ]
  },
  {
   "cell_type": "code",
   "execution_count": 20,
   "id": "16dd8f87-7e0d-4a52-9463-4e9554cbae57",
   "metadata": {},
   "outputs": [
    {
     "name": "stdout",
     "output_type": "stream",
     "text": [
      "(2, 3)\n"
     ]
    }
   ],
   "source": [
    "print(num_array.shape)"
   ]
  },
  {
   "cell_type": "code",
   "execution_count": 21,
   "id": "0324a623-0a36-4368-a636-917e45cd3c04",
   "metadata": {},
   "outputs": [
    {
     "name": "stdout",
     "output_type": "stream",
     "text": [
      "6\n"
     ]
    }
   ],
   "source": [
    "print(num_array.size)"
   ]
  },
  {
   "cell_type": "code",
   "execution_count": 34,
   "id": "73d35b09-7ccc-4fb4-92c9-5cd9f8887660",
   "metadata": {},
   "outputs": [
    {
     "name": "stdout",
     "output_type": "stream",
     "text": [
      "[[0. 0. 0.]\n",
      " [0. 0. 0.]\n",
      " [0. 0. 0.]]\n"
     ]
    }
   ],
   "source": [
    "new_array = np.zeros([3,3])\n",
    "print(new_array)"
   ]
  },
  {
   "cell_type": "code",
   "execution_count": 36,
   "id": "5c477a32-47d4-4098-b049-2242d4900e2d",
   "metadata": {},
   "outputs": [
    {
     "name": "stdout",
     "output_type": "stream",
     "text": [
      "9\n",
      "(3, 3)\n"
     ]
    }
   ],
   "source": [
    "print(new_array.size)\n",
    "print(new_array.shape)"
   ]
  },
  {
   "cell_type": "code",
   "execution_count": 47,
   "id": "77e1f235-cac5-4637-aa46-e59741b9a2bd",
   "metadata": {},
   "outputs": [
    {
     "data": {
      "text/plain": [
       "array([[1, 0, 0, 0, 0],\n",
       "       [0, 1, 0, 0, 0],\n",
       "       [0, 0, 1, 0, 0],\n",
       "       [0, 0, 0, 1, 0],\n",
       "       [0, 0, 0, 0, 1]])"
      ]
     },
     "execution_count": 47,
     "metadata": {},
     "output_type": "execute_result"
    }
   ],
   "source": [
    "#Question No 5\n",
    "#creating identity Matrix\n",
    "\n",
    "array_identity = np.identity(5, dtype=int)\n",
    "array_identity"
   ]
  },
  {
   "cell_type": "code",
   "execution_count": null,
   "id": "9daf3596-f67a-48a4-9b5a-1384c7567a70",
   "metadata": {},
   "outputs": [],
   "source": []
  }
 ],
 "metadata": {
  "kernelspec": {
   "display_name": "Python 3 (ipykernel)",
   "language": "python",
   "name": "python3"
  },
  "language_info": {
   "codemirror_mode": {
    "name": "ipython",
    "version": 3
   },
   "file_extension": ".py",
   "mimetype": "text/x-python",
   "name": "python",
   "nbconvert_exporter": "python",
   "pygments_lexer": "ipython3",
   "version": "3.10.8"
  }
 },
 "nbformat": 4,
 "nbformat_minor": 5
}
