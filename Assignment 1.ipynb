{
 "cells": [
  {
   "cell_type": "markdown",
   "id": "c93117d6-1b7f-4bfb-a16c-ec00904733da",
   "metadata": {},
   "source": [
    "Q1. What are the characteristics of the tuples? Is tuple immutable?\n",
    "\n",
    "\n",
    "It is used to store collection of data in and orderly and unchangeable format. It allow duplicate values to get stored.\n",
    "We cannot change or modify the items in tuples. Once the data is arranged the items in it cannot be changed.\n",
    "It has indexing from 0, 1, etc.\n",
    "Tuples are immutable."
   ]
  },
  {
   "cell_type": "markdown",
   "id": "e538fb55-49a7-462d-ba5d-3f7400f3ccc5",
   "metadata": {},
   "source": [
    "Q2. What are the two tuple methods in python? Give an example of each method. Give a reason why\n",
    "tuples have only two in-built methods as compared to Lists.\n",
    "\n",
    "There are only two built in methods for tuples: Count() and Index(). Since Tuples are it =self immutable so there is no point of having more built in methods."
   ]
  },
  {
   "cell_type": "markdown",
   "id": "f86bec94-815e-47a8-b8fd-f645dcaaeef5",
   "metadata": {},
   "source": [
    "Q3. Which collection datatypes in python do not allow duplicate items? Write a code using a set to remove\n",
    "duplicates from the given list.\n",
    "\n",
    "\n",
    "List = [1, 1, 1, 2, 1, 3, 1, 4, 2, 1, 2, 2, 2, 3, 2, 4, 3, 1, 3, 2, 3, 3, 3, 4, 4, 1, 4, 2, 4, 3, 4, 4]\n",
    "\n",
    "So there are two datatypes which doesn't hold duplicates: Sets & Dictionaries."
   ]
  },
  {
   "cell_type": "code",
   "execution_count": 21,
   "id": "abc81590-41ef-427b-9065-c3d4f729c684",
   "metadata": {},
   "outputs": [
    {
     "name": "stdout",
     "output_type": "stream",
     "text": [
      "The list is: [1, 1, 1, 2, 1, 3, 1, 4, 2, 1, 2, 2, 2, 3, 2, 4, 3, 1, 3, 2, 3, 3, 3, 4, 4, 1, 4, 2, 4, 3, 4, 4]\n",
      "\n",
      "The set without duplicate values is: {1, 2, 3, 4}\n"
     ]
    }
   ],
   "source": [
    "List = [1, 1, 1, 2, 1, 3, 1, 4, 2, 1, 2, 2, 2, 3, 2, 4, 3, 1, 3, 2, 3, 3, 3, 4, 4, 1, 4, 2, 4, 3, 4, 4]\n",
    "print(\"The list is:\",  List)\n",
    "print(\"\")\n",
    "##Using SET CONSTRUCTOR to make this a set:\n",
    "\n",
    "list1 = set(List)\n",
    "print(\"The set without duplicate values is:\", list1)"
   ]
  },
  {
   "cell_type": "markdown",
   "id": "348b5a5b-2e84-4d61-816e-b31955215604",
   "metadata": {},
   "source": [
    "Q4. Explain the difference between the union() and update() methods for a set. Give an example of\n",
    "each method."
   ]
  },
  {
   "cell_type": "code",
   "execution_count": 31,
   "id": "488caa0e-38a8-4a86-8a6f-5915690128dd",
   "metadata": {},
   "outputs": [
    {
     "name": "stdout",
     "output_type": "stream",
     "text": [
      "{'c', 'e', 'f', 'b', 'a', 'd'}\n",
      "\n",
      "{'c', 'a', 'b'}\n"
     ]
    }
   ],
   "source": [
    "set1 = {\"a\", \"b\", \"c\"}\n",
    "set2 = {\"b\",\"c\",\"d\"}\n",
    "set3 = {\"d\",\"e\",\"f\"}\n",
    "\n",
    "result = set1.union(set2,set3)\n",
    "print(result)\n",
    "print(\"\")\n",
    "print(set1)"
   ]
  },
  {
   "cell_type": "code",
   "execution_count": 42,
   "id": "32e7c7a0-e49d-4aa5-ba03-f998a3172525",
   "metadata": {},
   "outputs": [
    {
     "name": "stdout",
     "output_type": "stream",
     "text": [
      "{'c', 'b', 'a', 'd'}\n"
     ]
    }
   ],
   "source": [
    "set4 = {\"a\", \"b\", \"c\"}\n",
    "set5 = {\"b\",\"c\",\"d\"}\n",
    "set6 = {\"d\",\"e\",\"f\"}\n",
    "\n",
    "set4.update(set5)\n",
    "print(set4)"
   ]
  },
  {
   "cell_type": "markdown",
   "id": "e760f952-4f30-433f-bf2f-f0dac7dd2ec2",
   "metadata": {},
   "source": [
    "So the basic difference as it can be seen from the above is that \n",
    "UNION creates a new set where it collects all the elements of other sets while removing duplicate values.\n",
    "whereas\n",
    "UPDATE is used to update already existing set by add the elemnts of other sets in it.\n"
   ]
  },
  {
   "cell_type": "markdown",
   "id": "20e3d18a-be8b-4b0c-862f-874d07b0653a",
   "metadata": {},
   "source": [
    "Q5. What is a dictionary? Give an example. Also, state whether a dictionary is ordered or unordered.\n",
    "\n",
    "A dictionary is a datatype where the data is stored in the form of key, value pair and can be referred to by using the key name.\n",
    "It cannot hold duplicates.\n",
    "A dictionary is an ordered and changeable type od datatypes.\n",
    "Before Python 3.6, it was unordered but after 3.6 it's an order collection of key:value pair."
   ]
  },
  {
   "cell_type": "code",
   "execution_count": 4,
   "id": "501a8e53-792e-4cf2-a487-c896bcaea43a",
   "metadata": {},
   "outputs": [
    {
     "data": {
      "text/plain": [
       "{'name': 'ram', 'subject': 'Science', 'grade': 'B'}"
      ]
     },
     "execution_count": 4,
     "metadata": {},
     "output_type": "execute_result"
    }
   ],
   "source": [
    "df = {\"name\": \"ram\", \"subject\" : \"Science\", \"grade\":\"B\"}\n",
    "df"
   ]
  },
  {
   "cell_type": "markdown",
   "id": "90dd1096-937d-4cfd-9b7f-57b9032301a3",
   "metadata": {},
   "source": [
    "Q6. Can we create a nested dictionary? If so, please give an example by creating a simple one-level\n",
    "nested dictionary."
   ]
  },
  {
   "cell_type": "code",
   "execution_count": 9,
   "id": "ab085cc0-fb48-41e2-a995-607814873b12",
   "metadata": {},
   "outputs": [],
   "source": [
    "df = {\n",
    "\"college1\":{\n",
    "\"name\": \"ram\", \"subject\" : \"Science\", \"grade\":\"B\"},\n",
    "\"college2\":{\n",
    "\"name\": \"sam\", \"subject\" : \"Maths\", \"grade\":\"D\"}\n",
    "}\n"
   ]
  },
  {
   "cell_type": "code",
   "execution_count": 10,
   "id": "36e6475d-af31-4e47-9cd2-54085bbaf523",
   "metadata": {},
   "outputs": [
    {
     "name": "stdout",
     "output_type": "stream",
     "text": [
      "{'college1': {'name': 'ram', 'subject': 'Science', 'grade': 'B'}, 'college2': {'name': 'sam', 'subject': 'Maths', 'grade': 'D'}}\n"
     ]
    }
   ],
   "source": [
    "print(df)"
   ]
  },
  {
   "cell_type": "markdown",
   "id": "46101e68-fc43-4f24-ac82-11b2392fe6bf",
   "metadata": {},
   "source": [
    "Q7. Using setdefault() method, create key named topics in the given dictionary and also add the value of\n",
    "the key as this list ['Python', 'Machine Learning’, 'Deep Learning']\n",
    "\n",
    "\n",
    "dict1 = {'language' : 'Python', 'course': 'Data Science Masters'}"
   ]
  },
  {
   "cell_type": "markdown",
   "id": "a34e6db8-d83f-4305-bfc4-81a3b7f85b62",
   "metadata": {},
   "source": [
    "The setdefault() method returns the value of the item with the specified key.\n",
    "If the key does not exist, it inserts keys with the specified value."
   ]
  },
  {
   "cell_type": "code",
   "execution_count": 14,
   "id": "152dea39-76b2-43d8-9646-c3548c8daf33",
   "metadata": {},
   "outputs": [
    {
     "data": {
      "text/plain": [
       "{'language': ['Python', 'Machine Learning', 'Deep Learning'],\n",
       " 'course': 'Data Science Masters'}"
      ]
     },
     "execution_count": 14,
     "metadata": {},
     "output_type": "execute_result"
    }
   ],
   "source": [
    "\n",
    "dict1 = {\"language\": \"python\", \"course\": \"Data Science Masters\"}\n",
    "\n",
    "dict1[\"language\"]= [\"Python\", \"Machine Learning\", \"Deep Learning\"]\n",
    "\n",
    "dict1"
   ]
  },
  {
   "cell_type": "code",
   "execution_count": null,
   "id": "95d901f8-befe-4c04-b015-aaaa00f28536",
   "metadata": {},
   "outputs": [],
   "source": []
  },
  {
   "cell_type": "markdown",
   "id": "e2417780-fa7f-444a-801e-973568d06213",
   "metadata": {},
   "source": [
    "Q8. What are the three view objects in dictionaries? Use the three in-built methods in python to display\n",
    "these three view objects for the given dictionary.\n",
    "\n",
    "\n",
    "dict1 = {'Sport': 'Cricket' , 'Teams': ['India', 'Australia', 'England', 'South Africa', 'Sri Lanka', 'New Zealand']}\n",
    "\n",
    "The three view objects in dictonaries are:\n",
    "1. .items()\n",
    "2. .keys()\n",
    "3. .values()"
   ]
  },
  {
   "cell_type": "code",
   "execution_count": 15,
   "id": "0a96e7a5-5042-4608-b6b1-10098c51617e",
   "metadata": {},
   "outputs": [],
   "source": [
    "dict1 = {'Sport': 'Cricket' , 'Teams': ['India', 'Australia', 'England', 'South Africa', 'Sri Lanka', 'New Zealand']}"
   ]
  },
  {
   "cell_type": "code",
   "execution_count": 17,
   "id": "a32581ba-3331-4665-828a-d87c36f765a6",
   "metadata": {},
   "outputs": [
    {
     "data": {
      "text/plain": [
       "dict_items([('Sport', 'Cricket'), ('Teams', ['India', 'Australia', 'England', 'South Africa', 'Sri Lanka', 'New Zealand'])])"
      ]
     },
     "execution_count": 17,
     "metadata": {},
     "output_type": "execute_result"
    }
   ],
   "source": [
    "x = dict1.items()\n",
    "x"
   ]
  },
  {
   "cell_type": "code",
   "execution_count": 19,
   "id": "6064c5e8-924b-48d9-952e-c28b1f343041",
   "metadata": {},
   "outputs": [
    {
     "data": {
      "text/plain": [
       "dict_keys(['Sport', 'Teams'])"
      ]
     },
     "execution_count": 19,
     "metadata": {},
     "output_type": "execute_result"
    }
   ],
   "source": [
    "y = dict1.keys()\n",
    "y"
   ]
  },
  {
   "cell_type": "code",
   "execution_count": 21,
   "id": "fb81128d-84e7-4c4f-bdaa-d4887dc69716",
   "metadata": {},
   "outputs": [
    {
     "data": {
      "text/plain": [
       "dict_values(['Cricket', ['India', 'Australia', 'England', 'South Africa', 'Sri Lanka', 'New Zealand']])"
      ]
     },
     "execution_count": 21,
     "metadata": {},
     "output_type": "execute_result"
    }
   ],
   "source": [
    "z = dict1.values()\n",
    "z"
   ]
  },
  {
   "cell_type": "code",
   "execution_count": null,
   "id": "4392d882-9723-45f6-888d-6b9f226a1c99",
   "metadata": {},
   "outputs": [],
   "source": []
  },
  {
   "cell_type": "code",
   "execution_count": null,
   "id": "99c815d0-21ce-43d9-b1cb-c0a9443a2cd6",
   "metadata": {},
   "outputs": [],
   "source": []
  }
 ],
 "metadata": {
  "kernelspec": {
   "display_name": "Python 3 (ipykernel)",
   "language": "python",
   "name": "python3"
  },
  "language_info": {
   "codemirror_mode": {
    "name": "ipython",
    "version": 3
   },
   "file_extension": ".py",
   "mimetype": "text/x-python",
   "name": "python",
   "nbconvert_exporter": "python",
   "pygments_lexer": "ipython3",
   "version": "3.10.8"
  }
 },
 "nbformat": 4,
 "nbformat_minor": 5
}
